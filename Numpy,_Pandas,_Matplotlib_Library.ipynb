{
  "nbformat": 4,
  "nbformat_minor": 0,
  "metadata": {
    "colab": {
      "provenance": []
    },
    "kernelspec": {
      "name": "python3",
      "display_name": "Python 3"
    },
    "language_info": {
      "name": "python"
    }
  },
  "cells": [
    {
      "cell_type": "code",
      "source": [
        "a = [1,2,3]"
      ],
      "metadata": {
        "id": "9fy-5NirKyNz"
      },
      "execution_count": null,
      "outputs": []
    },
    {
      "cell_type": "markdown",
      "source": [
        "# Numpy\n",
        "***NumPy*** is a Python library.\n",
        "\n",
        "***NumPy*** is used for working with arrays.\n",
        "\n",
        "***NumPy*** is short for \"Numerical Python\".\n",
        "\n",
        "You have to import the Numpy module using the **import** keyword."
      ],
      "metadata": {
        "id": "7RJbMMwXtk4N"
      }
    },
    {
      "cell_type": "code",
      "source": [
        "# pip install numpy"
      ],
      "metadata": {
        "id": "3L6xJ5VOP1Bg"
      },
      "execution_count": null,
      "outputs": []
    },
    {
      "cell_type": "code",
      "execution_count": null,
      "metadata": {
        "colab": {
          "base_uri": "https://localhost:8080/"
        },
        "id": "vLnTL2KZtYw6",
        "outputId": "e76dd394-52fd-451e-8618-8138f6a4e190"
      },
      "outputs": [
        {
          "output_type": "stream",
          "name": "stdout",
          "text": [
            "[[ 1  2  3  4  5]\n",
            " [ 6  7  8  9 10]]\n",
            "<class 'numpy.ndarray'>\n"
          ]
        }
      ],
      "source": [
        "import numpy\n",
        "\n",
        "arr = numpy.array([[1, 2, 3, 4, 5],[6,7,8,9,10]], dtype = int)\n",
        "\n",
        "print(arr)\n",
        "\n",
        "print(type(arr))"
      ]
    },
    {
      "cell_type": "code",
      "source": [
        "# You can use alias for any library and this is 1-D Array\n",
        "import numpy as np\n",
        "\n",
        "arr1D = np.array([1, 2, 3, 4, 5])\n",
        "\n",
        "print(arr1D)\n",
        "\n",
        "print(type(arr1D))"
      ],
      "metadata": {
        "colab": {
          "base_uri": "https://localhost:8080/"
        },
        "id": "GrisSSSKuLC8",
        "outputId": "8ecddf43-7b3c-4a85-c804-67b02c408324"
      },
      "execution_count": null,
      "outputs": [
        {
          "output_type": "stream",
          "name": "stdout",
          "text": [
            "[1 2 3 4 5]\n",
            "<class 'numpy.ndarray'>\n"
          ]
        }
      ]
    },
    {
      "cell_type": "code",
      "source": [
        "# 2-Dimention Array\n",
        "arr2D = np.array([[1, 2, 3],\n",
        "                  [4, 5, 6]])\n",
        "print(arr2D)"
      ],
      "metadata": {
        "id": "O3RODyDuveMO",
        "colab": {
          "base_uri": "https://localhost:8080/"
        },
        "outputId": "81fdebf2-f4fa-4ee4-c187-99086ba32266"
      },
      "execution_count": null,
      "outputs": [
        {
          "output_type": "stream",
          "name": "stdout",
          "text": [
            "[[1 2 3]\n",
            " [4 5 6]]\n"
          ]
        }
      ]
    },
    {
      "cell_type": "code",
      "source": [
        "# 3-Dimensional Array\n",
        "arr3D = np.array([[[1, 2, 3], [4, 5, 6]], [[1, 2, 3], [4, 5, 6]]])\n",
        "\n",
        "print(arr3D)"
      ],
      "metadata": {
        "id": "dgxFB7kxv9Kn",
        "colab": {
          "base_uri": "https://localhost:8080/"
        },
        "outputId": "0adc9bf2-4ef6-4b03-afa0-2897e0c37453"
      },
      "execution_count": null,
      "outputs": [
        {
          "output_type": "stream",
          "name": "stdout",
          "text": [
            "[[[1 2 3]\n",
            "  [4 5 6]]\n",
            "\n",
            " [[1 2 3]\n",
            "  [4 5 6]]]\n"
          ]
        }
      ]
    },
    {
      "cell_type": "markdown",
      "source": [
        "There is a ndim method from which you can determine dimensions of Array."
      ],
      "metadata": {
        "id": "4dxA4cZnwaDW"
      }
    },
    {
      "cell_type": "code",
      "source": [
        "print(arr1D.ndim)\n",
        "print(arr2D.ndim)\n",
        "print(arr3D.ndim)"
      ],
      "metadata": {
        "id": "zo16ysDCwFrb",
        "colab": {
          "base_uri": "https://localhost:8080/"
        },
        "outputId": "c2e92e72-55f7-43c2-f157-0a8e5e2f3949"
      },
      "execution_count": null,
      "outputs": [
        {
          "output_type": "stream",
          "name": "stdout",
          "text": [
            "1\n",
            "2\n",
            "3\n"
          ]
        }
      ]
    },
    {
      "cell_type": "markdown",
      "source": [
        "You can treat numpy array as simple list. You can access elements using indexes."
      ],
      "metadata": {
        "id": "qwJ9jZC4xQgC"
      }
    },
    {
      "cell_type": "code",
      "source": [
        "arr = np.array([[1,2,3,4,5],\n",
        "                [6,7,8,9,10]])\n",
        "print(arr.ndim)\n",
        "print('2nd element on 1st row: ', arr[0][1])\n",
        "print('5th element on 2nd row: ', arr[1][4])"
      ],
      "metadata": {
        "id": "QjqcBK1gxMTc",
        "colab": {
          "base_uri": "https://localhost:8080/"
        },
        "outputId": "f59f1b45-d5a3-467a-ad6b-36314905c3d1"
      },
      "execution_count": null,
      "outputs": [
        {
          "output_type": "stream",
          "name": "stdout",
          "text": [
            "2\n",
            "2nd element on 1st row:  2\n",
            "5th element on 2nd row:  10\n"
          ]
        }
      ]
    },
    {
      "cell_type": "code",
      "source": [
        "arr = np.array([  [  [ [1, 2, 3],  [4, 5, 6] ],    [[7, 8, 9], [10, 11, 12]]    ]   ])\n",
        "\n",
        "print(arr[0][1][1])"
      ],
      "metadata": {
        "colab": {
          "base_uri": "https://localhost:8080/"
        },
        "id": "22CNvJ9mxkLP",
        "outputId": "24dc5862-2319-4f1d-a15e-eabb410c0b92"
      },
      "execution_count": null,
      "outputs": [
        {
          "output_type": "stream",
          "name": "stdout",
          "text": [
            "[10 11 12]\n"
          ]
        }
      ]
    },
    {
      "cell_type": "code",
      "source": [
        "arr = np.array([ [1,2,3,4,5],   [6,7,8,9,10]])\n",
        "\n",
        "print('Last element from 2nd dim: ', arr[1][-1])"
      ],
      "metadata": {
        "colab": {
          "base_uri": "https://localhost:8080/"
        },
        "id": "dCiirY13x_7i",
        "outputId": "de1a948d-333c-4d16-b7db-7a542e61bcaa"
      },
      "execution_count": null,
      "outputs": [
        {
          "output_type": "stream",
          "name": "stdout",
          "text": [
            "Last element from 2nd dim:  10\n"
          ]
        }
      ]
    },
    {
      "cell_type": "code",
      "source": [
        "arr = np.array([1, 2, 3, 4, 5, 6, 7])\n",
        "# array_name[start : end : step]    -----> end is always exclusive.\n",
        "print(arr[1:5])\n",
        "print(arr[2:])\n",
        "print(arr[:4])\n",
        "print(arr[-3:-1])\n",
        "print(arr[1:5:2])\n",
        "print(arr[::2])"
      ],
      "metadata": {
        "colab": {
          "base_uri": "https://localhost:8080/"
        },
        "id": "NIhDaRYWrEkd",
        "outputId": "8ba92c5d-1bcb-4c4a-bfb6-bc9c04951555"
      },
      "execution_count": null,
      "outputs": [
        {
          "output_type": "stream",
          "name": "stdout",
          "text": [
            "[2 3 4 5]\n",
            "[3 4 5 6 7]\n",
            "[1 2 3 4]\n",
            "[5 6]\n",
            "[2 4]\n",
            "[1 3 5 7]\n"
          ]
        }
      ]
    },
    {
      "cell_type": "code",
      "source": [
        "arr = np.array([  [1, 2, 3, 4, 5],   [6, 7, 8, 9, 10], [11,12,13,14,15]  ])\n",
        "\n",
        "print(arr[0][1:4])\n",
        "print(arr[0:2][1])\n",
        "print(arr[0:2][1:])"
      ],
      "metadata": {
        "colab": {
          "base_uri": "https://localhost:8080/"
        },
        "id": "lQPMSa3Pr4k1",
        "outputId": "cfffb30e-4a13-406b-d1d6-a18d77bf1d9b"
      },
      "execution_count": null,
      "outputs": [
        {
          "output_type": "stream",
          "name": "stdout",
          "text": [
            "[2 3 4]\n",
            "[ 6  7  8  9 10]\n",
            "[[ 6  7  8  9 10]]\n"
          ]
        }
      ]
    },
    {
      "cell_type": "markdown",
      "source": [
        "You can also create copy of an array. Changes in the copy will not effect the original array."
      ],
      "metadata": {
        "id": "CKhBpFVOuba4"
      }
    },
    {
      "cell_type": "code",
      "source": [
        "# Creating Copy of an array\n",
        "arr = np.array([1, 2, 3, 4, 5, 6, 7])\n",
        "\n",
        "coppied = arr.copy()\n",
        "\n",
        "coppied[0] = 200\n",
        "print(\"Coppied : \",coppied)\n",
        "print(\"Original Array : \", arr)\n"
      ],
      "metadata": {
        "colab": {
          "base_uri": "https://localhost:8080/"
        },
        "id": "uKZokbaAuDQp",
        "outputId": "8fb78ef3-a511-48c3-e1c8-d1084d2e8c4b"
      },
      "execution_count": null,
      "outputs": [
        {
          "output_type": "stream",
          "name": "stdout",
          "text": [
            "Coppied :  [200   2   3   4   5   6   7]\n",
            "Original Array :  [1 2 3 4 5 6 7]\n"
          ]
        }
      ]
    },
    {
      "cell_type": "markdown",
      "source": [
        "Using the Shape Method You can determine the dimensions and every dimension has how many elements."
      ],
      "metadata": {
        "id": "ECT1772nvVCi"
      }
    },
    {
      "cell_type": "code",
      "source": [
        "arr = np.array([[1, 2, 3, 4], [5, 6, 7, 8], [5, 6, 7, 8]])\n",
        "print(arr.ndim)\n",
        "print(arr.shape)\n",
        "\n",
        "resha = arr.reshape(2 , 3 , 2)\n",
        "print(resha)\n"
      ],
      "metadata": {
        "colab": {
          "base_uri": "https://localhost:8080/"
        },
        "id": "g9QiOD5xvmfR",
        "outputId": "fcdb8640-d665-47c5-ddf3-e4031f121afe"
      },
      "execution_count": null,
      "outputs": [
        {
          "output_type": "stream",
          "name": "stdout",
          "text": [
            "2\n",
            "(3, 4)\n",
            "[[[1 2]\n",
            "  [3 4]\n",
            "  [5 6]]\n",
            "\n",
            " [[7 8]\n",
            "  [5 6]\n",
            "  [7 8]]]\n"
          ]
        }
      ]
    },
    {
      "cell_type": "markdown",
      "source": [
        "Reshape an Array (From 1D to 2D, 1D to 3D)"
      ],
      "metadata": {
        "id": "WO9pugrvwWw_"
      }
    },
    {
      "cell_type": "code",
      "source": [
        "arr = np.array([1, 2, 3, 4, 5, 6, 7, 8, 9, 10, 11, 12])\n",
        "# Converting into 2D array\n",
        "newarr = arr.reshape(4, 3)\n",
        "\n",
        "print(newarr)\n",
        "print()\n",
        "\n",
        "# Converting into 3D array\n",
        "newarr = arr.reshape(2, 3, 2)\n",
        "print(newarr)"
      ],
      "metadata": {
        "colab": {
          "base_uri": "https://localhost:8080/"
        },
        "id": "f4EyPZ40wWdb",
        "outputId": "b49d9ce4-957e-40a1-c5a3-003b7df1a261"
      },
      "execution_count": null,
      "outputs": [
        {
          "output_type": "stream",
          "name": "stdout",
          "text": [
            "[[ 1  2  3]\n",
            " [ 4  5  6]\n",
            " [ 7  8  9]\n",
            " [10 11 12]]\n",
            "\n",
            "[[[ 1  2]\n",
            "  [ 3  4]\n",
            "  [ 5  6]]\n",
            "\n",
            " [[ 7  8]\n",
            "  [ 9 10]\n",
            "  [11 12]]]\n"
          ]
        }
      ]
    },
    {
      "cell_type": "markdown",
      "source": [
        "Iterating Numpy Arrays"
      ],
      "metadata": {
        "id": "HxNnmtQcxuk7"
      }
    },
    {
      "cell_type": "code",
      "source": [
        "arr = np.array([1, 2, 3])\n",
        "\n",
        "for x in arr:\n",
        "  print(x)"
      ],
      "metadata": {
        "colab": {
          "base_uri": "https://localhost:8080/"
        },
        "id": "A64MuDA3xtTh",
        "outputId": "162d204a-784e-41dc-cd4a-b3c099c626db"
      },
      "execution_count": null,
      "outputs": [
        {
          "output_type": "stream",
          "name": "stdout",
          "text": [
            "1\n",
            "2\n",
            "3\n"
          ]
        }
      ]
    },
    {
      "cell_type": "code",
      "source": [
        "arr = np.array([[1, 2, 3], [4, 5, 6]])\n",
        "\n",
        "for i in range(len(arr)):\n",
        "    for j in range(len(arr[i])):\n",
        "        print(arr[i][j])"
      ],
      "metadata": {
        "colab": {
          "base_uri": "https://localhost:8080/"
        },
        "id": "JSlu-xLBxz7M",
        "outputId": "03153114-e1ed-43c9-d009-2b9721e9e600"
      },
      "execution_count": null,
      "outputs": [
        {
          "output_type": "stream",
          "name": "stdout",
          "text": [
            "1\n",
            "2\n",
            "3\n",
            "4\n",
            "5\n",
            "6\n"
          ]
        }
      ]
    },
    {
      "cell_type": "code",
      "source": [
        "ans = [1,2,3] + [4,5,6]\n",
        "print(ans)"
      ],
      "metadata": {
        "colab": {
          "base_uri": "https://localhost:8080/"
        },
        "id": "ziu6clW2UUfY",
        "outputId": "a1bfb5ea-d9ba-40ea-ac9b-52b0d555c2ef"
      },
      "execution_count": null,
      "outputs": [
        {
          "output_type": "stream",
          "name": "stdout",
          "text": [
            "[1, 2, 3, 4, 5, 6]\n"
          ]
        }
      ]
    },
    {
      "cell_type": "markdown",
      "source": [
        "We cannot use + operator to concat the numpy arrays. You must use concatenate() method to do so."
      ],
      "metadata": {
        "id": "zX7I5uT57Epp"
      }
    },
    {
      "cell_type": "code",
      "source": [
        "import numpy as np\n",
        "\n",
        "arr1 = np.array([1, 2, 3])\n",
        "\n",
        "arr2 = np.array([4, 5, 6])\n",
        "\n",
        "arr = np.concatenate((arr1, arr2))\n",
        "\n",
        "# ans = arr1 + arr2\n",
        "# print(arr)\n",
        "\n",
        "print(ans)"
      ],
      "metadata": {
        "colab": {
          "base_uri": "https://localhost:8080/"
        },
        "id": "J7LF_hdR57FM",
        "outputId": "7852cab5-8cfe-49c2-e368-4689b756cd84"
      },
      "execution_count": null,
      "outputs": [
        {
          "output_type": "stream",
          "name": "stdout",
          "text": [
            "[1 2 3 4 5 6]\n",
            "[5 7 9]\n"
          ]
        }
      ]
    },
    {
      "cell_type": "markdown",
      "source": [
        "We use **array_split()** for splitting arrays, we pass it the array we want to split and the number of splits.\n",
        "\n",
        "f the array has less elements than required, it will adjust from the end accordingly."
      ],
      "metadata": {
        "id": "qi4-C4FV7z8W"
      }
    },
    {
      "cell_type": "code",
      "source": [
        "import numpy as np\n",
        "\n",
        "arr = np.array([1, 2, 3, 4, 5, 6, 7])\n",
        "\n",
        "newarr = np.array_split(arr, 3)\n",
        "\n",
        "print(newarr)"
      ],
      "metadata": {
        "colab": {
          "base_uri": "https://localhost:8080/"
        },
        "id": "yM0BTUr9700S",
        "outputId": "a91dad4d-acf5-4fbb-f3c7-ca0100a54474"
      },
      "execution_count": null,
      "outputs": [
        {
          "output_type": "stream",
          "name": "stdout",
          "text": [
            "[array([1, 2, 3]), array([4, 5]), array([6, 7])]\n"
          ]
        }
      ]
    },
    {
      "cell_type": "markdown",
      "source": [
        "You can search an array for a certain value, and return the indexes that get a match.\n",
        "\n",
        "To search an array, use the **where()** method."
      ],
      "metadata": {
        "id": "6XhNXvfh8R-C"
      }
    },
    {
      "cell_type": "code",
      "source": [
        "import numpy as np\n",
        "\n",
        "arr = np.array([1, 2, 3, 4, 5, 4, 4])\n",
        "\n",
        "x = np.where(arr == 4)\n",
        "\n",
        "print(x)"
      ],
      "metadata": {
        "colab": {
          "base_uri": "https://localhost:8080/"
        },
        "id": "3Y2KfuJO8Q6H",
        "outputId": "c12d7510-f5fc-48b0-ca07-fa661f0cdcd6"
      },
      "execution_count": null,
      "outputs": [
        {
          "output_type": "stream",
          "name": "stdout",
          "text": [
            "(array([3, 5, 6]),)\n"
          ]
        }
      ]
    },
    {
      "cell_type": "code",
      "source": [
        "import numpy as np\n",
        "\n",
        "arr = np.array([1, 2, 3, 4, 5, 6, 7, 8])\n",
        "\n",
        "x = np.where(arr%2 == 0)\n",
        "\n",
        "print(x)"
      ],
      "metadata": {
        "colab": {
          "base_uri": "https://localhost:8080/"
        },
        "id": "tXhhESF_8Zfe",
        "outputId": "c3ea9ff7-e1e7-41f8-c759-288e79dfd7fa"
      },
      "execution_count": null,
      "outputs": [
        {
          "output_type": "stream",
          "name": "stdout",
          "text": [
            "(array([0, 2, 4, 6]),)\n"
          ]
        }
      ]
    },
    {
      "cell_type": "markdown",
      "source": [
        "Sorting an Numpy Array"
      ],
      "metadata": {
        "id": "Frubub-SHtH4"
      }
    },
    {
      "cell_type": "code",
      "source": [
        "arr = np.array([3, 2, 0, 1])\n",
        "\n",
        "print(np.sort(arr))"
      ],
      "metadata": {
        "id": "6HkZv7Bm8dIt",
        "colab": {
          "base_uri": "https://localhost:8080/"
        },
        "outputId": "696f4db7-35da-4642-9cad-8084edf8134a"
      },
      "execution_count": null,
      "outputs": [
        {
          "output_type": "stream",
          "name": "stdout",
          "text": [
            "[0 1 2 3]\n"
          ]
        }
      ]
    },
    {
      "cell_type": "code",
      "source": [
        "arr = np.array(['banana', 'cherry', 'apple', 'appricote'])\n",
        "\n",
        "print(np.sort(arr))"
      ],
      "metadata": {
        "colab": {
          "base_uri": "https://localhost:8080/"
        },
        "id": "r2oFlM8RHyPo",
        "outputId": "04e16253-fda9-4e17-ca5f-e9b5a38c0603"
      },
      "execution_count": null,
      "outputs": [
        {
          "output_type": "stream",
          "name": "stdout",
          "text": [
            "['apple' 'appricote' 'banana' 'cherry']\n"
          ]
        }
      ]
    },
    {
      "cell_type": "code",
      "source": [
        "arr = np.array([[3, 2, 4], [5, 0, 1]])\n",
        "\n",
        "print(np.sort(arr))"
      ],
      "metadata": {
        "colab": {
          "base_uri": "https://localhost:8080/"
        },
        "id": "a9cxYOQxH1pV",
        "outputId": "e1e1a5e4-24d0-48cb-d182-c83c3d8203ae"
      },
      "execution_count": null,
      "outputs": [
        {
          "output_type": "stream",
          "name": "stdout",
          "text": [
            "[[2 3 4]\n",
            " [0 1 5]]\n"
          ]
        }
      ]
    },
    {
      "cell_type": "code",
      "source": [],
      "metadata": {
        "id": "x8GOA4lqe6I1"
      },
      "execution_count": null,
      "outputs": []
    },
    {
      "cell_type": "markdown",
      "source": [
        "# ***Pandas***\n",
        "Pandas is a Python library.\n",
        "\n",
        "Pandas is used to analyze data.\n",
        "\n",
        "Pandas is a Python library used for working with data sets.\n",
        "\n",
        "It has functions for analyzing, cleaning, exploring, and manipulating data.\n",
        "\n",
        "Pandas allows us to analyze big data and make conclusions based on statistical theories.\n",
        "\n",
        "Pandas can clean messy data sets, and make them readable and relevant.\n",
        "\n",
        "Relevant data is very important in data science.\n",
        "\n",
        "Same as numpy package. You have to import pandas package."
      ],
      "metadata": {
        "id": "ZZrQbpUje7Qx"
      }
    },
    {
      "cell_type": "code",
      "source": [
        "import pandas as pd\n",
        "import numpy as np\n",
        "\n",
        "a = np.array([1, 7, 2])\n",
        "\n",
        "myvar = pd.Series(a)\n",
        "\n",
        "print(myvar)\n"
      ],
      "metadata": {
        "colab": {
          "base_uri": "https://localhost:8080/"
        },
        "id": "PGjb5pPwfD-2",
        "outputId": "99fc0e81-a1de-4905-950b-78fa82f07139"
      },
      "execution_count": null,
      "outputs": [
        {
          "output_type": "stream",
          "name": "stdout",
          "text": [
            "0    1\n",
            "1    7\n",
            "2    2\n",
            "dtype: int64\n"
          ]
        }
      ]
    },
    {
      "cell_type": "markdown",
      "source": [
        "In the above example, we use series, It is like a column, a DataFrame is the whole table.\n",
        "\n",
        "Data sets in Pandas are usually multi-dimensional tables, called DataFrames."
      ],
      "metadata": {
        "id": "c8OJuYt2tsij"
      }
    },
    {
      "cell_type": "code",
      "source": [
        "mydataset = {\n",
        "#column : Row\n",
        "  'Fruit': [\"Apple\", \"Orange\", \"Kiwi\"],\n",
        "  'passings': [30, 70, 200]\n",
        "}\n",
        "\n",
        "data = pd.DataFrame(mydataset)\n",
        "\n",
        "print(data)"
      ],
      "metadata": {
        "colab": {
          "base_uri": "https://localhost:8080/"
        },
        "id": "e1IkaL56qr-N",
        "outputId": "6372bd86-8dae-4936-b8b3-1fddc84d7a9c"
      },
      "execution_count": null,
      "outputs": [
        {
          "output_type": "stream",
          "name": "stdout",
          "text": [
            "    Fruit  passings\n",
            "0   Apple        30\n",
            "1  Orange        70\n",
            "2    Kiwi       200\n"
          ]
        }
      ]
    },
    {
      "cell_type": "code",
      "source": [
        "data = {\n",
        "  \"calories\": [420, 380, 390],\n",
        "  \"duration\": [50, 40, 45]\n",
        "}\n",
        "\n",
        "dataframe = pd.DataFrame(data)\n",
        "\n",
        "print(dataframe)"
      ],
      "metadata": {
        "colab": {
          "base_uri": "https://localhost:8080/"
        },
        "id": "trIsrRArtXVi",
        "outputId": "ff32b49e-45b8-47c2-fefe-b0cb104f1bd5"
      },
      "execution_count": null,
      "outputs": [
        {
          "output_type": "stream",
          "name": "stdout",
          "text": [
            "   calories  duration\n",
            "0       420        50\n",
            "1       380        40\n",
            "2       390        45\n"
          ]
        }
      ]
    },
    {
      "cell_type": "markdown",
      "source": [
        "Pandas use the **loc** and **iloc** attribute to return one or more specified row(s).\n",
        "\n",
        "1.   loc access the row by its name\n",
        "2.   iloc access the row by indexs\n",
        "\n",
        "Remeber that if you use double square[] brackets it will return a dataframe otherwise it will return a Series."
      ],
      "metadata": {
        "id": "RDMxrD4mumru"
      }
    },
    {
      "cell_type": "code",
      "source": [
        "print(dataframe.loc[0])"
      ],
      "metadata": {
        "colab": {
          "base_uri": "https://localhost:8080/"
        },
        "id": "yBcyFwFtumDS",
        "outputId": "6f1c4b38-cc5a-4d98-cfb3-682d09a7088a"
      },
      "execution_count": null,
      "outputs": [
        {
          "output_type": "stream",
          "name": "stdout",
          "text": [
            "calories    420\n",
            "duration     50\n",
            "Name: 0, dtype: int64\n"
          ]
        }
      ]
    },
    {
      "cell_type": "code",
      "source": [
        "print(dataframe.loc[[0, 1]])"
      ],
      "metadata": {
        "colab": {
          "base_uri": "https://localhost:8080/"
        },
        "id": "B6PnRPg0wlHD",
        "outputId": "83f645f0-6b35-49e9-aa7f-a2c2ecc4ea31"
      },
      "execution_count": null,
      "outputs": [
        {
          "output_type": "stream",
          "name": "stdout",
          "text": [
            "   calories  duration\n",
            "0       420        50\n",
            "1       380        40\n"
          ]
        }
      ]
    },
    {
      "cell_type": "code",
      "source": [
        "data = {\n",
        "  \"calories\": [420, 380, 390],\n",
        "  \"duration\": [50, 40, 45]\n",
        "}\n",
        "\n",
        "df = pd.DataFrame(data, index = [\"day1\", \"day2\", \"day3\"])\n",
        "\n",
        "print(df)"
      ],
      "metadata": {
        "colab": {
          "base_uri": "https://localhost:8080/"
        },
        "id": "LG-melWnxzuR",
        "outputId": "a85cc764-2d79-475e-b047-21f2953290c2"
      },
      "execution_count": null,
      "outputs": [
        {
          "output_type": "stream",
          "name": "stdout",
          "text": [
            "      calories  duration\n",
            "day1       420        50\n",
            "day2       380        40\n",
            "day3       390        45\n"
          ]
        }
      ]
    },
    {
      "cell_type": "code",
      "source": [
        "print(df.loc[[\"day1\"]])"
      ],
      "metadata": {
        "colab": {
          "base_uri": "https://localhost:8080/"
        },
        "id": "PL8ujdP5aSZI",
        "outputId": "e74aefdb-e570-43ef-c3a4-f7530028df97"
      },
      "execution_count": null,
      "outputs": [
        {
          "output_type": "stream",
          "name": "stdout",
          "text": [
            "calories    420\n",
            "duration     50\n",
            "Name: day1, dtype: int64\n"
          ]
        }
      ]
    },
    {
      "cell_type": "code",
      "source": [
        "print(df.iloc[[0]])"
      ],
      "metadata": {
        "colab": {
          "base_uri": "https://localhost:8080/"
        },
        "id": "f_OxaLbJw77x",
        "outputId": "98128e85-b0a8-4a7e-fa3a-a15aac62219d"
      },
      "execution_count": null,
      "outputs": [
        {
          "output_type": "stream",
          "name": "stdout",
          "text": [
            "      calories  duration\n",
            "day1       420        50\n"
          ]
        }
      ]
    },
    {
      "cell_type": "code",
      "source": [
        "import pandas as pd\n",
        "\n",
        "data = pd.read_csv('data.csv')\n",
        "\n",
        "# Print the head of the Data\n",
        "print(data.head(20))      #By default head print first five rows but you can give no. how much rows you want\n",
        "print()\n",
        "# Print information about Data\n",
        "print(data.info())\n",
        "print()\n",
        "# Print the shape of Data\n",
        "print(data.shape)\n",
        "print()\n",
        "# Print a description of Data\n",
        "print(data.describe())"
      ],
      "metadata": {
        "colab": {
          "base_uri": "https://localhost:8080/"
        },
        "id": "KC__Dp1Jz-kw",
        "outputId": "c91eab97-9a4f-4ddc-deb4-828b48d1264c"
      },
      "execution_count": null,
      "outputs": [
        {
          "output_type": "stream",
          "name": "stdout",
          "text": [
            "    Duration  Pulse  Maxpulse  Calories\n",
            "0         60    110       130     409.1\n",
            "1         60    117       145     479.0\n",
            "2         60    103       135     340.0\n",
            "3         45    109       175     282.4\n",
            "4         45    117       148     406.0\n",
            "5         60    102       127     300.0\n",
            "6         60    110       136     374.0\n",
            "7         45    104       134     253.3\n",
            "8         30    109       133     195.1\n",
            "9         60     98       124     269.0\n",
            "10        60    103       147     329.3\n",
            "11        60    100       120     250.7\n",
            "12        60    106       128     345.3\n",
            "13        60    104       132     379.3\n",
            "14        60     98       123     275.0\n",
            "15        60     98       120     215.2\n",
            "16        60    100       120     300.0\n",
            "17        45     90       112       NaN\n",
            "18        60    103       123     323.0\n",
            "19        45     97       125     243.0\n",
            "\n",
            "<class 'pandas.core.frame.DataFrame'>\n",
            "RangeIndex: 169 entries, 0 to 168\n",
            "Data columns (total 4 columns):\n",
            " #   Column    Non-Null Count  Dtype  \n",
            "---  ------    --------------  -----  \n",
            " 0   Duration  169 non-null    int64  \n",
            " 1   Pulse     169 non-null    int64  \n",
            " 2   Maxpulse  169 non-null    int64  \n",
            " 3   Calories  164 non-null    float64\n",
            "dtypes: float64(1), int64(3)\n",
            "memory usage: 5.4 KB\n",
            "None\n",
            "\n",
            "(169, 4)\n",
            "\n",
            "         Duration       Pulse    Maxpulse     Calories\n",
            "count  169.000000  169.000000  169.000000   164.000000\n",
            "mean    63.846154  107.461538  134.047337   375.790244\n",
            "std     42.299949   14.510259   16.450434   266.379919\n",
            "min     15.000000   80.000000  100.000000    50.300000\n",
            "25%     45.000000  100.000000  124.000000   250.925000\n",
            "50%     60.000000  105.000000  131.000000   318.600000\n",
            "75%     60.000000  111.000000  141.000000   387.600000\n",
            "max    300.000000  159.000000  184.000000  1860.400000\n"
          ]
        }
      ]
    },
    {
      "cell_type": "code",
      "source": [
        "# Print the values of Data1\n",
        "print(data.values)\n",
        "\n",
        "# Print the column index of Data1\n",
        "print(data.columns)\n",
        "\n",
        "# Print the row index of Data1\n",
        "print(data.index)"
      ],
      "metadata": {
        "colab": {
          "base_uri": "https://localhost:8080/"
        },
        "id": "-H9ss2SXz-fS",
        "outputId": "154315d1-6622-4d31-d3e9-2839c7bc787d"
      },
      "execution_count": null,
      "outputs": [
        {
          "output_type": "stream",
          "name": "stdout",
          "text": [
            "[[  60.   110.   130.   409.1]\n",
            " [  60.   117.   145.   479. ]\n",
            " [  60.   103.   135.   340. ]\n",
            " [  45.   109.   175.   282.4]\n",
            " [  45.   117.   148.   406. ]\n",
            " [  60.   102.   127.   300. ]\n",
            " [  60.   110.   136.   374. ]\n",
            " [  45.   104.   134.   253.3]\n",
            " [  30.   109.   133.   195.1]\n",
            " [  60.    98.   124.   269. ]\n",
            " [  60.   103.   147.   329.3]\n",
            " [  60.   100.   120.   250.7]\n",
            " [  60.   106.   128.   345.3]\n",
            " [  60.   104.   132.   379.3]\n",
            " [  60.    98.   123.   275. ]\n",
            " [  60.    98.   120.   215.2]\n",
            " [  60.   100.   120.   300. ]\n",
            " [  45.    90.   112.     nan]\n",
            " [  60.   103.   123.   323. ]\n",
            " [  45.    97.   125.   243. ]\n",
            " [  60.   108.   131.   364.2]\n",
            " [  45.   100.   119.   282. ]\n",
            " [  60.   130.   101.   300. ]\n",
            " [  45.   105.   132.   246. ]\n",
            " [  60.   102.   126.   334.5]\n",
            " [  60.   100.   120.   250. ]\n",
            " [  60.    92.   118.   241. ]\n",
            " [  60.   103.   132.     nan]\n",
            " [  60.   100.   132.   280. ]\n",
            " [  60.   102.   129.   380.3]\n",
            " [  60.    92.   115.   243. ]\n",
            " [  45.    90.   112.   180.1]\n",
            " [  60.   101.   124.   299. ]\n",
            " [  60.    93.   113.   223. ]\n",
            " [  60.   107.   136.   361. ]\n",
            " [  60.   114.   140.   415. ]\n",
            " [  60.   102.   127.   300. ]\n",
            " [  60.   100.   120.   300. ]\n",
            " [  60.   100.   120.   300. ]\n",
            " [  45.   104.   129.   266. ]\n",
            " [  45.    90.   112.   180.1]\n",
            " [  60.    98.   126.   286. ]\n",
            " [  60.   100.   122.   329.4]\n",
            " [  60.   111.   138.   400. ]\n",
            " [  60.   111.   131.   397. ]\n",
            " [  60.    99.   119.   273. ]\n",
            " [  60.   109.   153.   387.6]\n",
            " [  45.   111.   136.   300. ]\n",
            " [  45.   108.   129.   298. ]\n",
            " [  60.   111.   139.   397.6]\n",
            " [  60.   107.   136.   380.2]\n",
            " [  80.   123.   146.   643.1]\n",
            " [  60.   106.   130.   263. ]\n",
            " [  60.   118.   151.   486. ]\n",
            " [  30.   136.   175.   238. ]\n",
            " [  60.   121.   146.   450.7]\n",
            " [  60.   118.   121.   413. ]\n",
            " [  45.   115.   144.   305. ]\n",
            " [  20.   153.   172.   226.4]\n",
            " [  45.   123.   152.   321. ]\n",
            " [ 210.   108.   160.  1376. ]\n",
            " [ 160.   110.   137.  1034.4]\n",
            " [ 160.   109.   135.   853. ]\n",
            " [  45.   118.   141.   341. ]\n",
            " [  20.   110.   130.   131.4]\n",
            " [ 180.    90.   130.   800.4]\n",
            " [ 150.   105.   135.   873.4]\n",
            " [ 150.   107.   130.   816. ]\n",
            " [  20.   106.   136.   110.4]\n",
            " [ 300.   108.   143.  1500.2]\n",
            " [ 150.    97.   129.  1115. ]\n",
            " [  60.   109.   153.   387.6]\n",
            " [  90.   100.   127.   700. ]\n",
            " [ 150.    97.   127.   953.2]\n",
            " [  45.   114.   146.   304. ]\n",
            " [  90.    98.   125.   563.2]\n",
            " [  45.   105.   134.   251. ]\n",
            " [  45.   110.   141.   300. ]\n",
            " [ 120.   100.   130.   500.4]\n",
            " [ 270.   100.   131.  1729. ]\n",
            " [  30.   159.   182.   319.2]\n",
            " [  45.   149.   169.   344. ]\n",
            " [  30.   103.   139.   151.1]\n",
            " [ 120.   100.   130.   500. ]\n",
            " [  45.   100.   120.   225.3]\n",
            " [  30.   151.   170.   300. ]\n",
            " [  45.   102.   136.   234. ]\n",
            " [ 120.   100.   157.  1000.1]\n",
            " [  45.   129.   103.   242. ]\n",
            " [  20.    83.   107.    50.3]\n",
            " [ 180.   101.   127.   600.1]\n",
            " [  45.   107.   137.     nan]\n",
            " [  30.    90.   107.   105.3]\n",
            " [  15.    80.   100.    50.5]\n",
            " [  20.   150.   171.   127.4]\n",
            " [  20.   151.   168.   229.4]\n",
            " [  30.    95.   128.   128.2]\n",
            " [  25.   152.   168.   244.2]\n",
            " [  30.   109.   131.   188.2]\n",
            " [  90.    93.   124.   604.1]\n",
            " [  20.    95.   112.    77.7]\n",
            " [  90.    90.   110.   500. ]\n",
            " [  90.    90.   100.   500. ]\n",
            " [  90.    90.   100.   500.4]\n",
            " [  30.    92.   108.    92.7]\n",
            " [  30.    93.   128.   124. ]\n",
            " [ 180.    90.   120.   800.3]\n",
            " [  30.    90.   120.    86.2]\n",
            " [  90.    90.   120.   500.3]\n",
            " [ 210.   137.   184.  1860.4]\n",
            " [  60.   102.   124.   325.2]\n",
            " [  45.   107.   124.   275. ]\n",
            " [  15.   124.   139.   124.2]\n",
            " [  45.   100.   120.   225.3]\n",
            " [  60.   108.   131.   367.6]\n",
            " [  60.   108.   151.   351.7]\n",
            " [  60.   116.   141.   443. ]\n",
            " [  60.    97.   122.   277.4]\n",
            " [  60.   105.   125.     nan]\n",
            " [  60.   103.   124.   332.7]\n",
            " [  30.   112.   137.   193.9]\n",
            " [  45.   100.   120.   100.7]\n",
            " [  60.   119.   169.   336.7]\n",
            " [  60.   107.   127.   344.9]\n",
            " [  60.   111.   151.   368.5]\n",
            " [  60.    98.   122.   271. ]\n",
            " [  60.    97.   124.   275.3]\n",
            " [  60.   109.   127.   382. ]\n",
            " [  90.    99.   125.   466.4]\n",
            " [  60.   114.   151.   384. ]\n",
            " [  60.   104.   134.   342.5]\n",
            " [  60.   107.   138.   357.5]\n",
            " [  60.   103.   133.   335. ]\n",
            " [  60.   106.   132.   327.5]\n",
            " [  60.   103.   136.   339. ]\n",
            " [  20.   136.   156.   189. ]\n",
            " [  45.   117.   143.   317.7]\n",
            " [  45.   115.   137.   318. ]\n",
            " [  45.   113.   138.   308. ]\n",
            " [  20.   141.   162.   222.4]\n",
            " [  60.   108.   135.   390. ]\n",
            " [  60.    97.   127.     nan]\n",
            " [  45.   100.   120.   250.4]\n",
            " [  45.   122.   149.   335.4]\n",
            " [  60.   136.   170.   470.2]\n",
            " [  45.   106.   126.   270.8]\n",
            " [  60.   107.   136.   400. ]\n",
            " [  60.   112.   146.   361.9]\n",
            " [  30.   103.   127.   185. ]\n",
            " [  60.   110.   150.   409.4]\n",
            " [  60.   106.   134.   343. ]\n",
            " [  60.   109.   129.   353.2]\n",
            " [  60.   109.   138.   374. ]\n",
            " [  30.   150.   167.   275.8]\n",
            " [  60.   105.   128.   328. ]\n",
            " [  60.   111.   151.   368.5]\n",
            " [  60.    97.   131.   270.4]\n",
            " [  60.   100.   120.   270.4]\n",
            " [  60.   114.   150.   382.8]\n",
            " [  30.    80.   120.   240.9]\n",
            " [  30.    85.   120.   250.4]\n",
            " [  45.    90.   130.   260.4]\n",
            " [  45.    95.   130.   270. ]\n",
            " [  45.   100.   140.   280.9]\n",
            " [  60.   105.   140.   290.8]\n",
            " [  60.   110.   145.   300. ]\n",
            " [  60.   115.   145.   310.2]\n",
            " [  75.   120.   150.   320.4]\n",
            " [  75.   125.   150.   330.4]]\n",
            "Index(['Duration', 'Pulse', 'Maxpulse', 'Calories'], dtype='object')\n",
            "RangeIndex(start=0, stop=169, step=1)\n"
          ]
        }
      ]
    },
    {
      "cell_type": "code",
      "source": [
        "a = np.array([\"apple\", \"orange\", \"appricote\", \"kiwi\"])\n",
        "\n",
        "print(np.sort(a))\n",
        "a[1] = \"Abc\"\n",
        "print(a)"
      ],
      "metadata": {
        "colab": {
          "base_uri": "https://localhost:8080/"
        },
        "id": "Te47hvEwdEX4",
        "outputId": "0692b65f-8912-4ce1-cdf1-bd2ab686a273"
      },
      "execution_count": null,
      "outputs": [
        {
          "output_type": "stream",
          "name": "stdout",
          "text": [
            "['apple' 'appricote' 'kiwi' 'orange']\n",
            "['apple' 'Abc' 'appricote' 'kiwi']\n"
          ]
        }
      ]
    },
    {
      "cell_type": "code",
      "source": [
        "data_ind = data.sort_values(\"Calories\", ascending=True)\n",
        "\n",
        "#for two values, we have to use list []\n",
        "\n",
        "# Print the top few rows\n",
        "print(data_ind.head(20))"
      ],
      "metadata": {
        "colab": {
          "base_uri": "https://localhost:8080/"
        },
        "id": "YV6IHekH0oKS",
        "outputId": "2483bd2b-9a21-4afe-86ac-a627cf5605d7"
      },
      "execution_count": null,
      "outputs": [
        {
          "output_type": "stream",
          "name": "stdout",
          "text": [
            "     Duration  Pulse  Maxpulse  Calories\n",
            "109       210    137       184    1860.4\n",
            "79        270    100       131    1729.0\n",
            "69        300    108       143    1500.2\n",
            "60        210    108       160    1376.0\n",
            "70        150     97       129    1115.0\n",
            "61        160    110       137    1034.4\n",
            "87        120    100       157    1000.1\n",
            "73        150     97       127     953.2\n",
            "66        150    105       135     873.4\n",
            "62        160    109       135     853.0\n",
            "67        150    107       130     816.0\n",
            "65        180     90       130     800.4\n",
            "106       180     90       120     800.3\n",
            "72         90    100       127     700.0\n",
            "51         80    123       146     643.1\n",
            "99         90     93       124     604.1\n",
            "90        180    101       127     600.1\n",
            "75         90     98       125     563.2\n",
            "78        120    100       130     500.4\n",
            "103        90     90       100     500.4\n"
          ]
        }
      ]
    },
    {
      "cell_type": "code",
      "source": [
        "data_subset = data[['Duration', 'Calories']]\n",
        "\n",
        "# Print the head of the result\n",
        "print(data_subset.head())\n",
        "print(data_subset.shape)"
      ],
      "metadata": {
        "colab": {
          "base_uri": "https://localhost:8080/"
        },
        "id": "Ch-0UPSF1Yxf",
        "outputId": "5e226fb9-2176-4b55-b125-1457d5569317"
      },
      "execution_count": null,
      "outputs": [
        {
          "output_type": "stream",
          "name": "stdout",
          "text": [
            "   Duration  Calories\n",
            "0        60     409.1\n",
            "1        60     479.0\n",
            "2        60     340.0\n",
            "3        45     282.4\n",
            "4        45     406.0\n",
            "(169, 2)\n"
          ]
        }
      ]
    },
    {
      "cell_type": "code",
      "source": [
        "calories_greater_400 = data_subset[data_subset[\"Calories\"] > 400]\n",
        "print(calories_greater_400.head())\n",
        "print(calories_greater_400.shape)"
      ],
      "metadata": {
        "colab": {
          "base_uri": "https://localhost:8080/"
        },
        "id": "2sgCnoca1wkm",
        "outputId": "8c11c05a-61f5-45de-8f82-cc0d91b7489d"
      },
      "execution_count": null,
      "outputs": [
        {
          "output_type": "stream",
          "name": "stdout",
          "text": [
            "    Duration  Calories\n",
            "0         60     409.1\n",
            "1         60     479.0\n",
            "4         45     406.0\n",
            "35        60     415.0\n",
            "51        80     643.1\n",
            "(35, 2)\n"
          ]
        }
      ]
    },
    {
      "cell_type": "markdown",
      "source": [
        "You can also add more columns in your data set."
      ],
      "metadata": {
        "id": "_58s6_AG4Si5"
      }
    },
    {
      "cell_type": "code",
      "source": [
        "data_subset[\"Extra_Column\"] = data_subset[\"Calories\"] + data_subset[\"Duration\"]\n",
        "\n",
        "\n",
        "print(data_subset.shape)\n",
        "\n",
        "print(data_subset)"
      ],
      "metadata": {
        "colab": {
          "base_uri": "https://localhost:8080/"
        },
        "id": "b9tFXitY4ZQn",
        "outputId": "aca57e1c-bd66-459f-a7d0-9ec8b3967776"
      },
      "execution_count": null,
      "outputs": [
        {
          "output_type": "stream",
          "name": "stdout",
          "text": [
            "(169, 3)\n",
            "     Duration  Calories Extra_Column\n",
            "0          60     409.1          Abc\n",
            "1          60     479.0          Abc\n",
            "2          60     340.0          Abc\n",
            "3          45     282.4          Abc\n",
            "4          45     406.0          Abc\n",
            "..        ...       ...          ...\n",
            "164        60     290.8          Abc\n",
            "165        60     300.0          Abc\n",
            "166        60     310.2          Abc\n",
            "167        75     320.4          Abc\n",
            "168        75     330.4          Abc\n",
            "\n",
            "[169 rows x 3 columns]\n"
          ]
        },
        {
          "output_type": "stream",
          "name": "stderr",
          "text": [
            "<ipython-input-135-69ffee5788ab>:1: SettingWithCopyWarning: \n",
            "A value is trying to be set on a copy of a slice from a DataFrame.\n",
            "Try using .loc[row_indexer,col_indexer] = value instead\n",
            "\n",
            "See the caveats in the documentation: https://pandas.pydata.org/pandas-docs/stable/user_guide/indexing.html#returning-a-view-versus-a-copy\n",
            "  data_subset[\"Extra_Column\"] = \"Abc\"\n"
          ]
        }
      ]
    },
    {
      "cell_type": "code",
      "source": [],
      "metadata": {
        "id": "rMhBWd6A2iol"
      },
      "execution_count": null,
      "outputs": []
    },
    {
      "cell_type": "markdown",
      "source": [
        "# ***Matplotlib***\n",
        "\n",
        "Matplotlib is a low level graph plotting library in python that serves as a visualization utility.\n",
        "\n",
        "The plot() function is used to draw points (markers) in a diagram.\n",
        "\n",
        "By default, the plot() function draws a line from point to point.\n",
        "\n",
        "The function takes parameters for specifying points in the diagram.\n",
        "\n",
        "Parameter 1 is an array containing the points on the x-axis.\n",
        "\n",
        "Parameter 2 is an array containing the points on the y-axis."
      ],
      "metadata": {
        "id": "g1hECClT87Pc"
      }
    },
    {
      "cell_type": "code",
      "source": [
        "import matplotlib.pyplot as plt\n",
        "import numpy as np\n",
        "\n",
        "xaxis_points = np.array([2,4,5,7])\n",
        "yaxis_points = np.array([10, 20, 23, 45])\n",
        "\n",
        "plt.plot(xaxis_points, yaxis_points)\n",
        "plt.show()"
      ],
      "metadata": {
        "colab": {
          "base_uri": "https://localhost:8080/",
          "height": 265
        },
        "id": "bEYW_YRL9nnD",
        "outputId": "3cc63ae2-f4a7-489b-8527-68a2e48e4986"
      },
      "execution_count": null,
      "outputs": [
        {
          "output_type": "display_data",
          "data": {
            "text/plain": [
              "<Figure size 432x288 with 1 Axes>"
            ],
            "image/png": "[encoded data removed]"
          },
          "metadata": {
            "needs_background": "light"
          }
        }
      ]
    },
    {
      "cell_type": "code",
      "source": [
        "#You can also change the view of graph\n",
        "\n",
        "xaxis_points = np.array([2,4,5,7])\n",
        "yaxis_points = np.array([10, 20, 23, 45])\n",
        "\n",
        "plt.plot(xaxis_points, yaxis_points, marker=\"H\", ms = 15)\n",
        "plt.show()"
      ],
      "metadata": {
        "colab": {
          "base_uri": "https://localhost:8080/",
          "height": 265
        },
        "id": "X7VMqTNlATdw",
        "outputId": "487a98ac-deb4-48af-fc0d-74d0d42141db"
      },
      "execution_count": null,
      "outputs": [
        {
          "output_type": "display_data",
          "data": {
            "text/plain": [
              "<Figure size 432x288 with 1 Axes>"
            ],
            "image/png": "[encoded data removed]"
          },
          "metadata": {
            "needs_background": "light"
          }
        }
      ]
    },
    {
      "cell_type": "markdown",
      "source": [
        "You can use the keyword argument ***marker*** to emphasize each point with a specified marker\n",
        "\n",
        "o'\tCircle\n",
        "'*'\tStar\n",
        "'.'\tPoint\n",
        "','\tPixel\n",
        "'x'\tX\n",
        "'X'\tX (filled)\n",
        "'+'\tPlus\n",
        "'P'\tPlus (filled)\n",
        "'s'\tSquare\n",
        "'D'\tDiamond\n",
        "'d'\tDiamond (thin)\n",
        "'p'\tPentagon\n",
        "'H'\tHexagon\n",
        "'h'\tHexagon\n",
        "'v'\tTriangle Down\n",
        "'^'\tTriangle Up\n",
        "'<'\tTriangle Left\n",
        "'>'\tTriangle Right\n",
        "'1'\tTri Down\n",
        "'2'\tTri Up\n",
        "'3'\tTri Left\n",
        "'4'\tTri Right\n",
        "'|'\tVline\n",
        "'_'\tHline"
      ],
      "metadata": {
        "id": "ajHO2NAwBNaX"
      }
    },
    {
      "cell_type": "code",
      "source": [
        "\n",
        "xaxis_points = np.array([2,4,5,7])\n",
        "yaxis_points = np.array([10, 20, 23, 45])\n",
        "\n",
        "plt.plot(xaxis_points, yaxis_points, marker = \".\")\n",
        "plt.show()"
      ],
      "metadata": {
        "colab": {
          "base_uri": "https://localhost:8080/",
          "height": 265
        },
        "id": "Z_H3c1HTBMn4",
        "outputId": "becdba49-2a89-4abf-df6f-20bf13d0fa12"
      },
      "execution_count": null,
      "outputs": [
        {
          "output_type": "display_data",
          "data": {
            "text/plain": [
              "<Figure size 432x288 with 1 Axes>"
            ],
            "image/png": "[encoded data removed]"
          },
          "metadata": {
            "needs_background": "light"
          }
        }
      ]
    },
    {
      "cell_type": "markdown",
      "source": [
        "You can also change the line type, color with this syntax\n",
        "\n",
        "> ***marker line color***\n",
        "\n",
        "Type of Formats for Line:\n",
        "\n",
        "'-'\t    Solid line\n",
        "':'\t    Dotted line\n",
        "'--'\tDashed line\n",
        "'-.'\tDashed/dotted line\n",
        "\n",
        "Line Colors\n",
        "\n",
        "'r'\tRed\n",
        "'g'\tGreen\n",
        "'b'\tBlue\n",
        "'c'\tCyan\n",
        "'m'\tMagenta\n",
        "'y'\tYellow\n",
        "'k'\tBlack\n",
        "'w'\tWhite"
      ],
      "metadata": {
        "id": "hnOB7DyNCNqj"
      }
    },
    {
      "cell_type": "code",
      "source": [
        "points = np.array([3, 8, 1, 10])\n",
        "\n",
        "plt.plot(points, 'H--r')\n",
        "plt.show()"
      ],
      "metadata": {
        "id": "-G77PtpyCNZX",
        "colab": {
          "base_uri": "https://localhost:8080/",
          "height": 265
        },
        "outputId": "8f9bcf8e-9ac9-4b55-d916-33bdb4ba595f"
      },
      "execution_count": null,
      "outputs": [
        {
          "output_type": "display_data",
          "data": {
            "text/plain": [
              "<Figure size 432x288 with 1 Axes>"
            ],
            "image/png": "[encoded data removed]"
          },
          "metadata": {
            "needs_background": "light"
          }
        }
      ]
    },
    {
      "cell_type": "markdown",
      "source": [
        "You can also change the marker size, marker egde color, marker face color.\n",
        "\n",
        "1.   To change marker size, use argument \"ms\".\n",
        "2.   To change marker edge color, use argument \"mec\"\n",
        "3.   To change marker face color, use argument \"mfc\"\n"
      ],
      "metadata": {
        "id": "nQhBFT6uQs8F"
      }
    },
    {
      "cell_type": "code",
      "source": [
        "points = np.array([2,5,6,4])\n",
        "\n",
        "plt.plot(points, marker = 'o', ms = 10, mec = 'r', mfc = 'm', ls = \"--\", color = \"r\")\n",
        "plt.show()"
      ],
      "metadata": {
        "colab": {
          "base_uri": "https://localhost:8080/",
          "height": 265
        },
        "id": "4HHqLfYTQhIW",
        "outputId": "7d81cbba-a886-4762-810c-38972c76f9af"
      },
      "execution_count": null,
      "outputs": [
        {
          "output_type": "display_data",
          "data": {
            "text/plain": [
              "<Figure size 432x288 with 1 Axes>"
            ],
            "image/png": "[encoded data removed]"
          },
          "metadata": {
            "needs_background": "light"
          }
        }
      ]
    },
    {
      "cell_type": "markdown",
      "source": [
        "You can use the keyword argument **linestyle**, or shorter **ls**, to change the style of the plotted line."
      ],
      "metadata": {
        "id": "JiBW5XudR8Bp"
      }
    },
    {
      "cell_type": "code",
      "source": [
        "points = np.array([3, 8, 1, 10])\n",
        "\n",
        "plt.plot(points, linestyle = 'dotted')\n",
        "plt.show()"
      ],
      "metadata": {
        "colab": {
          "base_uri": "https://localhost:8080/",
          "height": 265
        },
        "id": "hUK0XcesR7sp",
        "outputId": "08c0cccf-3548-4c5c-a3a4-c6f6526fac14"
      },
      "execution_count": null,
      "outputs": [
        {
          "output_type": "display_data",
          "data": {
            "text/plain": [
              "<Figure size 432x288 with 1 Axes>"
            ],
            "image/png": "[encoded data removed]"
          },
          "metadata": {
            "needs_background": "light"
          }
        }
      ]
    },
    {
      "cell_type": "markdown",
      "source": [
        "You can plot as many lines as you like by simply adding more plt.plot() functions."
      ],
      "metadata": {
        "id": "8pKmFl7YSmU_"
      }
    },
    {
      "cell_type": "code",
      "source": [
        "progress_Ali = np.array([3, 8, 1, 10])\n",
        "progress_Hamza = np.array([6, 2, 7, 11])\n",
        "#a = np.array([4,3,6,2])\n",
        "\n",
        "plt.plot(progress_Ali)\n",
        "plt.plot(progress_Hamza)\n",
        "#plt.plot(a)\n",
        "plt.show()"
      ],
      "metadata": {
        "colab": {
          "base_uri": "https://localhost:8080/",
          "height": 265
        },
        "id": "jPJMC8NfSlI6",
        "outputId": "6f463fde-3f3a-4feb-e113-d0d11110e84b"
      },
      "execution_count": null,
      "outputs": [
        {
          "output_type": "display_data",
          "data": {
            "text/plain": [
              "<Figure size 432x288 with 1 Axes>"
            ],
            "image/png": "[encoded data removed]"
          },
          "metadata": {
            "needs_background": "light"
          }
        }
      ]
    },
    {
      "cell_type": "markdown",
      "source": [
        "As in above example, we are not able to distinguish which line is for the specified person. So, We can use legends."
      ],
      "metadata": {
        "id": "4nrKCN4xS_a1"
      }
    },
    {
      "cell_type": "code",
      "source": [
        "progress_Ali = np.array([3, 8, 1, 10])\n",
        "progress_Hamza = np.array([6, 2, 7, 11])\n",
        "\n",
        "plt.plot(progress_Ali, label = \"Ali Progress\", color = \"r\")\n",
        "plt.plot(progress_Hamza, label = \"Hamza Progress\")\n",
        "plt.legend(loc=\"upper left\")\n",
        "plt.show()"
      ],
      "metadata": {
        "colab": {
          "base_uri": "https://localhost:8080/",
          "height": 265
        },
        "id": "SL4kHrROS-Mw",
        "outputId": "c4a2ee3a-688e-4129-9bc6-c42f1d5840ab"
      },
      "execution_count": null,
      "outputs": [
        {
          "output_type": "display_data",
          "data": {
            "text/plain": [
              "<Figure size 432x288 with 1 Axes>"
            ],
            "image/png": "[encoded data removed]"
          },
          "metadata": {
            "needs_background": "light"
          }
        }
      ]
    },
    {
      "cell_type": "markdown",
      "source": [
        "**Labeling the graph**\n",
        "\n",
        "With Pyplot, you can use the xlabel() and ylabel() functions to set a label for the x- and y-axis.\n",
        "\n",
        "Also you can give the title to the graph using title()"
      ],
      "metadata": {
        "id": "5C54Twjeji0U"
      }
    },
    {
      "cell_type": "code",
      "source": [
        "x = np.array([80, 85, 90, 95, 100, 105, 110, 115, 120, 125])\n",
        "y = np.array([240, 250, 260, 270, 280, 290, 300, 310, 320, 330])\n",
        "a = np.array([50,44,22,88,95,33])\n",
        "\n",
        "plt.plot(x, y)\n",
        "plt.plot(a, color = \"r\")\n",
        "\n",
        "plt.xlabel(\"Average Pulse\")\n",
        "plt.ylabel(\"Calorie Burnage\")\n",
        "plt.title(\"Calory Pulse Graph\")\n",
        "\n",
        "plt.show()"
      ],
      "metadata": {
        "colab": {
          "base_uri": "https://localhost:8080/",
          "height": 295
        },
        "id": "ACTQGlrmUs9D",
        "outputId": "ede700e6-d2b3-464d-bd20-f2b1ff953fd4"
      },
      "execution_count": null,
      "outputs": [
        {
          "output_type": "display_data",
          "data": {
            "text/plain": [
              "<Figure size 432x288 with 1 Axes>"
            ],
            "image/png": "[encoded data removed]"
          },
          "metadata": {
            "needs_background": "light"
          }
        }
      ]
    },
    {
      "cell_type": "markdown",
      "source": [
        "If you want to read data correctly, grids help us to read data. You can apply grid to your graph."
      ],
      "metadata": {
        "id": "Amc5Dftqkvs6"
      }
    },
    {
      "cell_type": "code",
      "source": [
        "x = np.array([80, 85, 90, 95, 100, 105, 110, 115, 120, 125])\n",
        "y = np.array([240, 250, 260, 270, 280, 290, 300, 310, 320, 330])\n",
        "\n",
        "plt.plot(x, y)\n",
        "\n",
        "plt.xlabel(\"Average Pulse\")\n",
        "plt.ylabel(\"Calorie Burnage\")\n",
        "plt.grid()\n",
        "plt.show()"
      ],
      "metadata": {
        "colab": {
          "base_uri": "https://localhost:8080/",
          "height": 279
        },
        "id": "iPOaOGGykYpm",
        "outputId": "85bd1268-51f3-4aa4-cdd8-8bb238444627"
      },
      "execution_count": null,
      "outputs": [
        {
          "output_type": "display_data",
          "data": {
            "text/plain": [
              "<Figure size 432x288 with 1 Axes>"
            ],
            "image/png": "[encoded data removed]"
          },
          "metadata": {
            "needs_background": "light"
          }
        }
      ]
    },
    {
      "cell_type": "markdown",
      "source": [
        "Using the Matplotlib library, you can also create 2-D plot.\n",
        "\n",
        "The **scatter()** function plots one dot for each observation. It needs two arrays of the same length, one for the values of the x-axis, and one for values on the y-axis."
      ],
      "metadata": {
        "id": "toHB-tyTlXeD"
      }
    },
    {
      "cell_type": "code",
      "source": [
        "x = np.array([5,7,8,7,2,17,2,9,4,11,12,9,6])\n",
        "y = np.array([99,86,87,88,111,86,103,87,94,78,77,85,86])\n",
        "\n",
        "plt.scatter(x, y)\n",
        "\n",
        "plt.grid()\n",
        "\n",
        "plt.show()"
      ],
      "metadata": {
        "colab": {
          "base_uri": "https://localhost:8080/",
          "height": 265
        },
        "id": "f53Roip-j9s-",
        "outputId": "da42ed58-1e73-4060-9724-5c72fd7c8a63"
      },
      "execution_count": null,
      "outputs": [
        {
          "output_type": "display_data",
          "data": {
            "text/plain": [
              "<Figure size 432x288 with 1 Axes>"
            ],
            "image/png": "[encoded data removed]"
          },
          "metadata": {
            "needs_background": "light"
          }
        }
      ]
    },
    {
      "cell_type": "markdown",
      "source": [
        "Using Matplotlib, you can also create bar plots.\n",
        "It stores the frequency(count) for the given product."
      ],
      "metadata": {
        "id": "qU4JAmqHmh5N"
      }
    },
    {
      "cell_type": "code",
      "source": [
        "x = np.array([\"A\", \"B\", \"C\", \"D\"])\n",
        "y = np.array([3, 8, 1, 10])\n",
        "\n",
        "plt.bar(x,y)\n",
        "plt.xlabel(\"Product\")\n",
        "plt.ylabel(\"Frequency (count)\")\n",
        "\n",
        "plt.show()"
      ],
      "metadata": {
        "colab": {
          "base_uri": "https://localhost:8080/",
          "height": 279
        },
        "id": "4IDGtKPpmm0Q",
        "outputId": "d33daa07-8d15-4baa-e789-6bba07b13f73"
      },
      "execution_count": null,
      "outputs": [
        {
          "output_type": "display_data",
          "data": {
            "text/plain": [
              "<Figure size 432x288 with 1 Axes>"
            ],
            "image/png": "[encoded data removed]"
          },
          "metadata": {
            "needs_background": "light"
          }
        }
      ]
    },
    {
      "cell_type": "markdown",
      "source": [
        "Using Matplotlib you can also create pie charts."
      ],
      "metadata": {
        "id": "K5R9CzBtnlCH"
      }
    },
    {
      "cell_type": "code",
      "source": [
        "y = np.array([35, 25, 25, 15])\n",
        "\n",
        "plt.pie(y)\n",
        "\n",
        "plt.show()"
      ],
      "metadata": {
        "colab": {
          "base_uri": "https://localhost:8080/",
          "height": 248
        },
        "id": "OYLq8cJRnkuj",
        "outputId": "50992ee7-e8db-4ed9-ec5f-63308856dec2"
      },
      "execution_count": null,
      "outputs": [
        {
          "output_type": "display_data",
          "data": {
            "text/plain": [
              "<Figure size 432x288 with 1 Axes>"
            ],
            "image/png": "[encoded data removed]"
          },
          "metadata": {}
        }
      ]
    },
    {
      "cell_type": "markdown",
      "source": [
        "As in the above pie chart we cannot determine which part denotes which number. We can also label them."
      ],
      "metadata": {
        "id": "N3xlI02yohD3"
      }
    },
    {
      "cell_type": "code",
      "source": [
        "y = np.array([35, 25, 25, 15, 30, 20, 16])\n",
        "\n",
        "plt.pie(y, labels=[35, 25, 25, 15, 30, 20, 16])\n",
        "\n",
        "plt.legend(loc = \"best\")\n",
        "\n",
        "plt.show()"
      ],
      "metadata": {
        "colab": {
          "base_uri": "https://localhost:8080/",
          "height": 248
        },
        "id": "izsZK8Kyofwa",
        "outputId": "74641604-d536-4c84-c272-9b5c260a2608"
      },
      "execution_count": null,
      "outputs": [
        {
          "output_type": "display_data",
          "data": {
            "text/plain": [
              "<Figure size 432x288 with 1 Axes>"
            ],
            "image/png": "[encoded data removed]"
          },
          "metadata": {}
        }
      ]
    }
  ]
}